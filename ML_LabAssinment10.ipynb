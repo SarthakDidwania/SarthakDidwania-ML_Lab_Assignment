{
  "nbformat": 4,
  "nbformat_minor": 0,
  "metadata": {
    "colab": {
      "name": "ML_LabAssinment10.ipynb",
      "provenance": [],
      "collapsed_sections": []
    },
    "kernelspec": {
      "name": "python3",
      "display_name": "Python 3"
    }
  },
  "cells": [
    {
      "cell_type": "code",
      "metadata": {
        "id": "Q8gixUa2ugw7",
        "colab_type": "code",
        "colab": {}
      },
      "source": [
        "import matplotlib.pyplot as plt\n",
        "from matplotlib import style\n",
        "import numpy as np\n",
        "#from sklearn import preprocessing, cross_validation\n",
        "import pandas as pd"
      ],
      "execution_count": 0,
      "outputs": []
    },
    {
      "cell_type": "markdown",
      "metadata": {
        "id": "q4Eh_4hlFXfA",
        "colab_type": "text"
      },
      "source": [
        "## Problem 1\n"
      ]
    },
    {
      "cell_type": "code",
      "metadata": {
        "id": "57k1aFR6wvEA",
        "colab_type": "code",
        "outputId": "ff8e33a5-258b-4919-9338-72a335386b71",
        "colab": {
          "base_uri": "https://localhost:8080/",
          "height": 34
        }
      },
      "source": [
        "import random\n",
        "massDist = (0.2,0.4,0.1,0.1,0.1,0.1)\n",
        "def roll(massDist):\n",
        "    randRoll = random.random() # in [0,1]\n",
        "    sum = 0\n",
        "    result = 1\n",
        "    for mass in massDist:\n",
        "        sum += mass\n",
        "        if randRoll < sum:\n",
        "            return result\n",
        "        result+=1\n",
        "\n",
        "def dice(massDict):\n",
        "  step = 0;\n",
        "  numstep = 0;\n",
        "  for i in range(100000):\n",
        "    for i in range(250):\n",
        "      result = roll(massDict)\n",
        "      # print(\"You rolled\",result)\n",
        "      if result==1 or result==2: step=max(0,step-1)\n",
        "      elif result>=3 and result<=5: step=step+1\n",
        "      else: \n",
        "        result1 = roll(massDict)\n",
        "        step=step+result1\n",
        "    if step>60: numstep=numstep+1\n",
        "  return numstep\n",
        "\n",
        "numstep = dice(massDist)\n",
        "print(\"Probability = \",numstep/100000)"
      ],
      "execution_count": 0,
      "outputs": [
        {
          "output_type": "stream",
          "text": [
            "Probability =  0.27854\n"
          ],
          "name": "stdout"
        }
      ]
    },
    {
      "cell_type": "markdown",
      "metadata": {
        "id": "onBCC5T9xpRO",
        "colab_type": "text"
      },
      "source": [
        "## Problem 2\n"
      ]
    },
    {
      "cell_type": "markdown",
      "metadata": {
        "id": "ZYQrnxTHx6gP",
        "colab_type": "text"
      },
      "source": [
        "**Random data for multiple linear regression**"
      ]
    },
    {
      "cell_type": "code",
      "metadata": {
        "id": "C3Oo46IByE6D",
        "colab_type": "code",
        "outputId": "bbb8bb98-09d0-432d-e601-235b7c485b8f",
        "colab": {
          "base_uri": "https://localhost:8080/",
          "height": 605
        }
      },
      "source": [
        "import numpy as np\n",
        "import pandas as pd\n",
        "import scipy\n",
        "import random\n",
        "from scipy.stats import norm\n",
        "random.seed(1)\n",
        "n_features = 5\n",
        "X = []\n",
        "for i in range(n_features):\n",
        "  X_i = scipy.stats.norm.rvs(0, 1, 100)\n",
        "  X.append(X_i)\n",
        "\n",
        "eps = scipy.stats.norm.rvs(0, 0.25,100)\n",
        "y = 1 + (0.5 * X[0]) + eps + (0.3 * X[1]) + (0.2 * X[2]) + (0.2 * X[3]) + (0.1 * X[4])\n",
        "data_mlr = {'X0': X[0],'X1':X[1],'X2':X[2],'X3':X[3],'X4':X[4],'Y': y }\n",
        "df = pd.DataFrame(data_mlr)\n",
        "print(df.head())\n",
        "print(df.tail())\n",
        "print(df.info())\n",
        "print(df.describe())\n"
      ],
      "execution_count": 0,
      "outputs": [
        {
          "output_type": "stream",
          "text": [
            "         X0        X1        X2        X3        X4         Y\n",
            "0 -0.766953 -1.256310 -0.143166  0.030730  2.313627  0.509667\n",
            "1  0.604441  0.514057 -0.150871  1.193019  0.266890  2.179829\n",
            "2  0.229018 -1.091846  1.217145  0.428463 -1.352421  0.907754\n",
            "3  1.030034 -1.703462 -1.476959 -0.676491 -0.082128  0.241685\n",
            "4  0.336097  1.343056 -0.855283  0.338273  0.580128  1.583253\n",
            "          X0        X1        X2        X3        X4         Y\n",
            "95  0.522780  0.439871  0.146716  1.471238  2.206375  1.897849\n",
            "96  0.061585 -0.616341 -0.026920 -1.803106 -0.801838  0.270632\n",
            "97  0.077369 -0.133388  0.709683 -0.433276 -0.142637  1.071951\n",
            "98  1.162363  0.047128  0.450020  0.554083  1.998860  2.175577\n",
            "99 -0.178804  0.909925  0.278313  0.145989  1.322533  1.462664\n",
            "<class 'pandas.core.frame.DataFrame'>\n",
            "RangeIndex: 100 entries, 0 to 99\n",
            "Data columns (total 6 columns):\n",
            " #   Column  Non-Null Count  Dtype  \n",
            "---  ------  --------------  -----  \n",
            " 0   X0      100 non-null    float64\n",
            " 1   X1      100 non-null    float64\n",
            " 2   X2      100 non-null    float64\n",
            " 3   X3      100 non-null    float64\n",
            " 4   X4      100 non-null    float64\n",
            " 5   Y       100 non-null    float64\n",
            "dtypes: float64(6)\n",
            "memory usage: 4.8 KB\n",
            "None\n",
            "               X0          X1          X2          X3          X4           Y\n",
            "count  100.000000  100.000000  100.000000  100.000000  100.000000  100.000000\n",
            "mean    -0.009779   -0.064170    0.036432    0.005223    0.005039    0.999318\n",
            "std      0.904727    0.951356    0.997808    0.909290    0.921190    0.587227\n",
            "min     -2.157280   -2.009140   -2.239698   -1.820421   -1.678000   -0.386877\n",
            "25%     -0.525263   -0.723550   -0.569428   -0.566991   -0.549059    0.576097\n",
            "50%     -0.034904   -0.001733    0.092533   -0.012650   -0.036704    0.974278\n",
            "75%      0.435975    0.573335    0.624276    0.686570    0.586254    1.371234\n",
            "max      3.129921    2.015086    2.471261    1.749417    2.546643    2.551397\n"
          ],
          "name": "stdout"
        }
      ]
    },
    {
      "cell_type": "markdown",
      "metadata": {
        "id": "drCq2_yjyfMI",
        "colab_type": "text"
      },
      "source": [
        "**Random data for logistic regression**"
      ]
    },
    {
      "cell_type": "code",
      "metadata": {
        "id": "i7-8s-Tryf0U",
        "colab_type": "code",
        "outputId": "687bf6a0-c6cc-42bf-9233-648e313cac93",
        "colab": {
          "base_uri": "https://localhost:8080/",
          "height": 605
        }
      },
      "source": [
        "n_features = 5\n",
        "X = []\n",
        "for i in range(n_features):\n",
        "  X_i = scipy.stats.norm.rvs(0, 1, 100)\n",
        "  X.append(X_i)\n",
        "#print(X)\n",
        "a1 = (np.exp(1 + (0.3 * X[0]) + (0.4 * X[1]) + (0.5 * X[2]) + (0.4 * X[3]) + (0.2 * X[4]))/(1 + np.exp(1 + (0.3 * X[0]) + (0.4 * X[1]) + (0.5 * X[2]) + (0.4 * X[3]) + (0.2 * X[4]))))\n",
        "#print(a1)\n",
        "y1 = []\n",
        "for i in a1:\n",
        "  if (i>=0.5):\n",
        "    y1.append(1)\n",
        "  else:\n",
        "    y1.append(0)\n",
        "#print(y1)\n",
        "data_lr = {'X0': X[0],'X1':X[1],'X2':X[2],'X3':X[3],'X4':X[4],'Y': y1 }\n",
        "df1 = pd.DataFrame(data_lr)\n",
        "print(df1.head())\n",
        "print(df1.tail())\n",
        "print(df1.info())\n",
        "print(df1.describe())\n"
      ],
      "execution_count": 0,
      "outputs": [
        {
          "output_type": "stream",
          "text": [
            "         X0        X1        X2        X3        X4  Y\n",
            "0  0.744918  0.433082 -0.130742 -0.765036  0.971557  1\n",
            "1 -1.253942  1.132486  0.520547  0.078078  0.279879  1\n",
            "2 -0.533277  0.882639  0.718687 -0.446733  0.186110  1\n",
            "3  0.863932 -1.150473 -0.492288 -0.044652  0.280685  1\n",
            "4 -1.561800 -1.401798 -1.549916 -0.777515  0.114760  0\n",
            "          X0        X1        X2        X3        X4  Y\n",
            "95  0.306767  2.829251  2.134935  1.318780 -0.697294  1\n",
            "96  1.257452 -0.606436  0.378408 -0.436036  0.579008  1\n",
            "97 -0.223456  0.916776 -0.481194 -1.372091  1.329468  1\n",
            "98  0.260844  1.252298  0.346737  0.841380 -0.932607  1\n",
            "99  1.030661  0.136360  1.174850  1.235762 -0.168185  1\n",
            "<class 'pandas.core.frame.DataFrame'>\n",
            "RangeIndex: 100 entries, 0 to 99\n",
            "Data columns (total 6 columns):\n",
            " #   Column  Non-Null Count  Dtype  \n",
            "---  ------  --------------  -----  \n",
            " 0   X0      100 non-null    float64\n",
            " 1   X1      100 non-null    float64\n",
            " 2   X2      100 non-null    float64\n",
            " 3   X3      100 non-null    float64\n",
            " 4   X4      100 non-null    float64\n",
            " 5   Y       100 non-null    int64  \n",
            "dtypes: float64(5), int64(1)\n",
            "memory usage: 4.8 KB\n",
            "None\n",
            "               X0          X1          X2          X3          X4           Y\n",
            "count  100.000000  100.000000  100.000000  100.000000  100.000000  100.000000\n",
            "mean     0.119039    0.071819    0.194049   -0.000657   -0.028324    0.940000\n",
            "std      1.123563    1.049365    1.008280    0.965284    0.934207    0.238683\n",
            "min     -2.731254   -2.694921   -2.701593   -2.041150   -1.814726    0.000000\n",
            "25%     -0.474714   -0.613245   -0.360597   -0.710960   -0.631138    1.000000\n",
            "50%      0.117557    0.074727    0.176655    0.039002   -0.112316    1.000000\n",
            "75%      0.845202    0.779866    0.703200    0.625556    0.516983    1.000000\n",
            "max      2.820637    2.829251    3.145766    3.321389    3.622095    1.000000\n"
          ],
          "name": "stdout"
        }
      ]
    },
    {
      "cell_type": "markdown",
      "metadata": {
        "id": "nbplkPfuyqqx",
        "colab_type": "text"
      },
      "source": [
        "**Random data for K means clustering**"
      ]
    },
    {
      "cell_type": "code",
      "metadata": {
        "id": "7jj_2yGgyrgp",
        "colab_type": "code",
        "outputId": "fe60bb43-e13e-4431-a83b-4e85ff6ea271",
        "colab": {
          "base_uri": "https://localhost:8080/",
          "height": 786
        }
      },
      "source": [
        "X_a= -2 * np.random.rand(100,2)\n",
        "X_b = 1 + 2 * np.random.rand(50,2)\n",
        "X_a[50:100, :] = X_b\n",
        "plt.scatter(X_a[ : , 0], X_a[ :, 1], s = 50)\n",
        "plt.show()\n",
        "data_kmeans = {'X0': X_a[:,0],'X1':X_a[:,1]}\n",
        "df3 = pd.DataFrame(data_kmeans)\n",
        "print(df3.head())\n",
        "print(df3.tail())\n",
        "print(df3.info())\n",
        "print(df3.describe())"
      ],
      "execution_count": 0,
      "outputs": [
        {
          "output_type": "display_data",
          "data": {
            "image/png": "[encoded data removed]",
            "text/plain": [
              "<Figure size 432x288 with 1 Axes>"
            ]
          },
          "metadata": {
            "tags": [],
            "needs_background": "light"
          }
        },
        {
          "output_type": "stream",
          "text": [
            "         X0        X1\n",
            "0 -0.564928 -1.657014\n",
            "1 -0.685069 -1.156114\n",
            "2 -1.430160 -1.922008\n",
            "3 -0.235790 -0.279940\n",
            "4 -1.127672 -1.281249\n",
            "          X0        X1\n",
            "95  1.518509  1.906047\n",
            "96  2.467873  1.459195\n",
            "97  1.215843  2.561225\n",
            "98  1.330181  2.986763\n",
            "99  1.808365  1.864366\n",
            "<class 'pandas.core.frame.DataFrame'>\n",
            "RangeIndex: 100 entries, 0 to 99\n",
            "Data columns (total 2 columns):\n",
            " #   Column  Non-Null Count  Dtype  \n",
            "---  ------  --------------  -----  \n",
            " 0   X0      100 non-null    float64\n",
            " 1   X1      100 non-null    float64\n",
            "dtypes: float64(2)\n",
            "memory usage: 1.7 KB\n",
            "None\n",
            "               X0          X1\n",
            "count  100.000000  100.000000\n",
            "mean     0.536503    0.513615\n",
            "std      1.593101    1.619860\n",
            "min     -1.998184   -1.963112\n",
            "25%     -0.925765   -0.920854\n",
            "50%      0.497222    0.504735\n",
            "75%      2.012516    2.110144\n",
            "max      2.953649    2.986763\n"
          ],
          "name": "stdout"
        }
      ]
    },
    {
      "cell_type": "markdown",
      "metadata": {
        "id": "4iV5fdCVyzl6",
        "colab_type": "text"
      },
      "source": [
        "## Problem 3\n"
      ]
    },
    {
      "cell_type": "markdown",
      "metadata": {
        "id": "GbtA18myy6qb",
        "colab_type": "text"
      },
      "source": [
        "**Linear regression using Gradient descent**"
      ]
    },
    {
      "cell_type": "code",
      "metadata": {
        "colab_type": "code",
        "outputId": "4a9c2555-691c-4c0a-c854-b0bc2fb43abe",
        "id": "PhwQ6hkqetBo",
        "colab": {
          "base_uri": "https://localhost:8080/",
          "height": 34
        }
      },
      "source": [
        "X = df.iloc[:,0].values\n",
        "#print(X)\n",
        "y = df.iloc[:,5].values\n",
        "m = 0\n",
        "b = 0\n",
        "l = 0.001\n",
        "epochs = 100\n",
        " \n",
        "n = float(len(X))\n",
        "for i in range(epochs):\n",
        "  y_p = m*X + b\n",
        "  loss = np.sum(y_p - y1)**2\n",
        "  dv1 = (-2/n) * sum(X * (y - y_p))\n",
        "  dv0 = (-2/n) * sum(y - y_p)\n",
        "  m = m - (l*dv1)\n",
        "  b = b - (l*dv0)\n",
        "\n",
        "print(m,b)\n",
        "\n"
      ],
      "execution_count": 0,
      "outputs": [
        {
          "output_type": "stream",
          "text": [
            "0.06200902724519021 0.18136720947645896\n"
          ],
          "name": "stdout"
        }
      ]
    },
    {
      "cell_type": "markdown",
      "metadata": {
        "id": "wr8BOKGry9J0",
        "colab_type": "text"
      },
      "source": [
        "**Logistic regression using Gradient descent**"
      ]
    },
    {
      "cell_type": "code",
      "metadata": {
        "id": "peiWsLQky9g9",
        "colab_type": "code",
        "outputId": "664f93a9-50ea-4e54-c820-02f3c717bed6",
        "colab": {
          "base_uri": "https://localhost:8080/",
          "height": 185
        }
      },
      "source": [
        "X1 = df1.iloc[:,0:5].values\n",
        "y1 = df1.iloc[:,5].values\n",
        "\n",
        "def sigmoid(Z):\n",
        "  return 1 /(1+np.exp(-Z))\n",
        "\n",
        "def loss(y1,y_hat):\n",
        "  return -np.mean(y1*np.log(y_hat) + (1-y1)*(np.log(1-y_hat)))\n",
        "\n",
        "W = np.zeros((5,1))\n",
        "b = np.zeros((1,1))\n",
        "\n",
        "m = len(y1)\n",
        "lr = 0.001\n",
        "for epoch in range(1000):\n",
        "  Z = np.matmul(X1,W)+b\n",
        "  A = sigmoid(Z)\n",
        "  logistic_loss = loss(y1,A)\n",
        "  dz = A - y1\n",
        "  dw = 1/m * np.matmul(X1.T,dz)\n",
        "  db = np.sum(dz)\n",
        "\n",
        "  W = W - lr*dw\n",
        "  b = b - lr*db\n",
        "\n",
        "  if epoch % 100 == 0:\n",
        "    print(logistic_loss)\n",
        "\n",
        "\n",
        "\n"
      ],
      "execution_count": 0,
      "outputs": [
        {
          "output_type": "stream",
          "text": [
            "0.6931471805599453\n",
            "0.22664368913088623\n",
            "0.22632402849682912\n",
            "0.2260085265173254\n",
            "0.22569717295858435\n",
            "0.22538995982400178\n",
            "0.22508688112155698\n",
            "0.22478793263066454\n",
            "0.22449311166875774\n",
            "0.224202416857957\n"
          ],
          "name": "stdout"
        }
      ]
    },
    {
      "cell_type": "markdown",
      "metadata": {
        "id": "LoENvIV5zIXg",
        "colab_type": "text"
      },
      "source": [
        "Linear regression using L1 regualrization"
      ]
    },
    {
      "cell_type": "code",
      "metadata": {
        "id": "dDszNPKLzIx1",
        "colab_type": "code",
        "outputId": "fea31d3c-26ba-4081-e440-25f0cf0b51a8",
        "colab": {
          "base_uri": "https://localhost:8080/",
          "height": 34
        }
      },
      "source": [
        "X = df.iloc[:,0].values\n",
        "#print(X)\n",
        "y = df.iloc[:,5].values\n",
        "m = 0\n",
        "b = 0\n",
        "l = 0.001\n",
        "epochs = 100\n",
        "lam = 0.1\n",
        " \n",
        "n = float(len(X))\n",
        "for i in range(epochs):\n",
        "  y_p = m*X + b\n",
        "  loss = np.sum(y_p - y1)**2 + (lam * m)\n",
        "  dv1 = (-2/n) * sum(X * (y - y_p)) + lam\n",
        "  dv0 = (-2/n) * sum(y - y_p)\n",
        "  m = m - (l*dv1)\n",
        "  b = b - (l*dv0)\n",
        "\n",
        "print(m,b)\n",
        "\n",
        "\n"
      ],
      "execution_count": 0,
      "outputs": [
        {
          "output_type": "stream",
          "text": [
            "0.052770494544524725 0.18135860068335222\n"
          ],
          "name": "stdout"
        }
      ]
    },
    {
      "cell_type": "markdown",
      "metadata": {
        "id": "x0Uel4a4zP39",
        "colab_type": "text"
      },
      "source": [
        "Linear regression using L2 regualrization"
      ]
    },
    {
      "cell_type": "code",
      "metadata": {
        "id": "Nr6WdypnzQTk",
        "colab_type": "code",
        "outputId": "64b4dd04-adcc-495f-dcb9-e20e165d82bb",
        "colab": {
          "base_uri": "https://localhost:8080/",
          "height": 34
        }
      },
      "source": [
        "X = df.iloc[:,0].values\n",
        "#print(X)\n",
        "y = df.iloc[:,5].values\n",
        "m = 0\n",
        "b = 0\n",
        "l = 0.001\n",
        "epochs = 100\n",
        "lam = 0.1\n",
        " \n",
        "n = float(len(X))\n",
        "for i in range(epochs):\n",
        "  y_p = m*X + b\n",
        "  loss = np.sum(y_p - y1)**2 + ((lam/2) * m)\n",
        "  dv1 = (-2/n) * sum(X * (y - y_p)) + (lam *m)\n",
        "  dv0 = (-2/n) * sum(y - y_p)\n",
        "  m = m - (l*dv1)\n",
        "  b = b - (l*dv0)\n",
        "\n",
        "print(m,b)\n"
      ],
      "execution_count": 0,
      "outputs": [
        {
          "output_type": "stream",
          "text": [
            "0.06171121009331572 0.1813670231543837\n"
          ],
          "name": "stdout"
        }
      ]
    },
    {
      "cell_type": "markdown",
      "metadata": {
        "id": "9ZqTphNDzWWI",
        "colab_type": "text"
      },
      "source": [
        "Logistic regression using L1 regualrization"
      ]
    },
    {
      "cell_type": "code",
      "metadata": {
        "id": "S7F6RrmazW_7",
        "colab_type": "code",
        "outputId": "a16c65b7-6b3d-4fb9-b1f5-e717e5d489e0",
        "colab": {
          "base_uri": "https://localhost:8080/",
          "height": 185
        }
      },
      "source": [
        "X1 = df1.iloc[:,0:5].values\n",
        "y1 = df1.iloc[:,5].values\n",
        "lam = 0.1\n",
        "def sigmoid(Z):\n",
        "  return 1 /(1+np.exp(-Z))\n",
        "\n",
        "def loss(y1,y_hat):\n",
        "  return -np.mean(y1*np.log(y_hat) + (1-y1)*(np.log(1-y_hat))) + (lam * (np.sum(W)))\n",
        "\n",
        "W = np.zeros((5,1))\n",
        "b = np.zeros((1,1))\n",
        "\n",
        "m = len(y1)\n",
        "lr = 0.001\n",
        "for epoch in range(1000):\n",
        "  Z = np.matmul(X1,W)+b\n",
        "  A = sigmoid(Z)\n",
        "  logistic_loss = loss(y1,A)\n",
        "  dz = A - y1\n",
        "  dw = 1/m * np.matmul(X1.T,dz) + lam\n",
        "  db = np.sum(dz)\n",
        "\n",
        "  W = W - lr*dw\n",
        "  b = b - lr*db\n",
        "\n",
        "  if epoch % 100 == 0:\n",
        "    print(logistic_loss)\n",
        "\n",
        "\n",
        "\n"
      ],
      "execution_count": 0,
      "outputs": [
        {
          "output_type": "stream",
          "text": [
            "0.6931471805599453\n",
            "-0.2710778415859113\n",
            "-0.7674725570492569\n",
            "-1.2612587487797606\n",
            "-1.752456090728736\n",
            "-2.2410842206287818\n",
            "-2.727162758693326\n",
            "-3.210711330988829\n",
            "-3.691749596973755\n",
            "-4.170297280632995\n"
          ],
          "name": "stdout"
        }
      ]
    },
    {
      "cell_type": "code",
      "metadata": {
        "id": "H15MjKmqzdjq",
        "colab_type": "code",
        "outputId": "66dba9e0-dd60-47fb-ff4c-bea27c789794",
        "colab": {
          "base_uri": "https://localhost:8080/",
          "height": 185
        }
      },
      "source": [
        "****\n",
        "\n",
        "X1 = df1.iloc[:,0:5].values\n",
        "y1 = df1.iloc[:,5].values\n",
        "lam = 0.1\n",
        "def sigmoid(Z):\n",
        "  return 1 /(1+np.exp(-Z))\n",
        "\n",
        "def loss(y1,y_hat):\n",
        "  return -np.mean(y1*np.log(y_hat) + (1-y1)*(np.log(1-y_hat))) + (lam * (np.sum(np.square(W))))\n",
        "\n",
        "W = np.zeros((5,1))\n",
        "b = np.zeros((1,1))\n",
        "\n",
        "m = len(y1)\n",
        "lr = 0.001\n",
        "for epoch in range(1000):\n",
        "  Z = np.matmul(X1,W)+b\n",
        "  A = sigmoid(Z)\n",
        "  logistic_loss = loss(y1,A)\n",
        "  dz = A - y1\n",
        "  dw = 1/m * np.matmul(X1.T,dz) + lam * W\n",
        "  db = np.sum(dz)\n",
        "\n",
        "  W = W - lr*dw\n",
        "  b = b - lr*db\n",
        "\n",
        "  if epoch % 100 == 0:\n",
        "    print(logistic_loss)\n",
        "\n"
      ],
      "execution_count": 0,
      "outputs": [
        {
          "output_type": "stream",
          "text": [
            "0.6931471805599453\n",
            "0.2269659823259294\n",
            "0.22759212633946047\n",
            "0.22881530063784297\n",
            "0.2306058146391127\n",
            "0.23293494662333009\n",
            "0.23577490973682153\n",
            "0.2390988206004795\n",
            "0.2428806702956101\n",
            "0.24709529751375808\n"
          ],
          "name": "stdout"
        }
      ]
    },
    {
      "cell_type": "code",
      "metadata": {
        "id": "opWChu6GznJV",
        "colab_type": "code",
        "colab": {}
      },
      "source": [
        "#K Means Clustering Algorithm\n",
        "class K_Means:\n",
        "    def __init__(self, k=2, tol=0.001, max_iter=300):\n",
        "        self.k = k\n",
        "        self.tol = tol\n",
        "        self.max_iter = max_iter\n",
        "\n",
        "    def fit(self,data):\n",
        "\n",
        "        self.centroids = {}\n",
        "\n",
        "        for i in range(self.k):\n",
        "            self.centroids[i] = data[i]\n",
        "\n",
        "        for i in range(self.max_iter):\n",
        "            self.classifications = {}\n",
        "\n",
        "            for i in range(self.k):\n",
        "                self.classifications[i] = []\n",
        "\n",
        "            for featureset in X:\n",
        "                distances = [np.linalg.norm(featureset-self.centroids[centroid]) for centroid in self.centroids]\n",
        "                classification = distances.index(min(distances))\n",
        "                self.classifications[classification].append(featureset)\n",
        "\n",
        "            prev_centroids = dict(self.centroids)\n",
        "\n",
        "            for classification in self.classifications:\n",
        "                self.centroids[classification] = np.average(self.classifications[classification],axis=0)\n",
        "\n",
        "            optimized = True\n",
        "\n",
        "            for c in self.centroids:\n",
        "                original_centroid = prev_centroids[c]\n",
        "                current_centroid = self.centroids[c]\n",
        "                if np.sum((current_centroid-original_centroid)/original_centroid*100.0) > self.tol:\n",
        "                    print(np.sum((current_centroid-original_centroid)/original_centroid*100.0))\n",
        "                    optimized = False\n",
        "\n",
        "            if optimized:\n",
        "                break\n",
        "\n",
        "    def predict(self,data):\n",
        "        distances = [np.linalg.norm(data-self.centroids[centroid]) for centroid in self.centroids]\n",
        "        classification = distances.index(min(distances))\n",
        "        return classification\n",
        "        \n",
        "colors = 10*[\"c\",\"b\",\"y\",\"p\",\"k\"]"
      ],
      "execution_count": 0,
      "outputs": []
    },
    {
      "cell_type": "code",
      "metadata": {
        "id": "c7XLLQzuzvF4",
        "colab_type": "code",
        "outputId": "dbea9ac2-0259-4bb0-e6c5-e077c524318e",
        "colab": {
          "base_uri": "https://localhost:8080/",
          "height": 315
        }
      },
      "source": [
        "X = df3.iloc[:,0:2].values\n",
        "clf = K_Means()\n",
        "clf.fit(X)\n",
        "\n",
        "for centroid in clf.centroids:\n",
        "    plt.scatter(clf.centroids[centroid][0], clf.centroids[centroid][1],\n",
        "                marker=\"o\", color=\"k\", s=150, linewidths=5)\n",
        "\n",
        "for classification in clf.classifications:\n",
        "    color = colors[classification]\n",
        "    for featureset in clf.classifications[classification]:\n",
        "        plt.scatter(featureset[0], featureset[1], marker=\"x\", color=color, s=150, linewidths=5)"
      ],
      "execution_count": 0,
      "outputs": [
        {
          "output_type": "stream",
          "text": [
            "62.61301244084278\n",
            "299.17277470035333\n",
            "8.713603583870363\n"
          ],
          "name": "stdout"
        },
        {
          "output_type": "display_data",
          "data": {
            "image/png": "[encoded data removed]",
            "text/plain": [
              "<Figure size 432x288 with 1 Axes>"
            ]
          },
          "metadata": {
            "tags": [],
            "needs_background": "light"
          }
        }
      ]
    }
  ]
}